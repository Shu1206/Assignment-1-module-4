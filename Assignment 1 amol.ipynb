{
 "cells": [
  {
   "cell_type": "code",
   "execution_count": 4,
   "id": "4902882f-9b89-43fa-9bc6-b302ebfa4b3a",
   "metadata": {},
   "outputs": [],
   "source": [
    "# 1. Explain key features of python that make it popular choice of programming\n",
    "#  => Key features of python that make it popular choice of programming are as follows-\n",
    "#     i) Python is very beginner friendly because of its readability and simplicity.\n",
    "#     ii) Python provides the user with a vast choices of libraries to choose from (around 137000+).\n",
    "#     iii) Python can be used in combination with other softwares such as MySQL etc.\n",
    "#     iv) Python is usable in most of the machines nowadays.\n",
    "#     v) Python is a good language to start learning with and can be used for performing various different tasks."
   ]
  },
  {
   "cell_type": "code",
   "execution_count": 5,
   "id": "0e5eacdd-31be-4f3c-bb02-ed6086b8bc63",
   "metadata": {},
   "outputs": [],
   "source": [
    "# 2. Describe the role of predefined keyword and provide example of how they are used in python\n",
    "#  =>  Predefined keywords are the keywords which are assigned with fixed tasks to perform \n",
    "#      Some examples of keywords that we use commonly are-\n",
    "#      print, type, for, in, while, break, continue etc.\n",
    "#      Here's an example '''"
   ]
  },
  {
   "cell_type": "code",
   "execution_count": 6,
   "id": "056ffca0-8f6b-4a88-9a6c-3dd905f576ae",
   "metadata": {},
   "outputs": [
    {
     "name": "stdout",
     "output_type": "stream",
     "text": [
      "I love doing python assignments\n"
     ]
    }
   ],
   "source": [
    "print(\"I love doing python assignments\")\n",
    "# this prints the string we typed"
   ]
  },
  {
   "cell_type": "code",
   "execution_count": 7,
   "id": "d3dba61b-3f01-49a7-a827-8fcb57a067cc",
   "metadata": {},
   "outputs": [],
   "source": [
    "# 3. Compare and contrast of mutable and immutable objects in python with example.\n",
    "#  => Mutability refers to the ability to change/update something \n",
    "#      Mutable objects-\n",
    "#      List, Sets and Dictionary are mutable objects in python"
   ]
  },
  {
   "cell_type": "code",
   "execution_count": 8,
   "id": "9f1c0951-9d51-4c62-862d-cd7fb94e6dcd",
   "metadata": {},
   "outputs": [
    {
     "name": "stdout",
     "output_type": "stream",
     "text": [
      "['a', 'b', 'c']\n"
     ]
    }
   ],
   "source": [
    "list = [1,2,3]\n",
    "list [0] = \"a\"\n",
    "list [1] = \"b\"\n",
    "list [2] = \"c\"\n",
    "print(list)"
   ]
  },
  {
   "cell_type": "code",
   "execution_count": 9,
   "id": "2520fcb6-062f-477b-9f56-1bd023409c31",
   "metadata": {},
   "outputs": [],
   "source": [
    "# Immutable objects like tuple and strings cannot be updated/changed the value of unlike mutable objects "
   ]
  },
  {
   "cell_type": "code",
   "execution_count": 10,
   "id": "3d6c70da-9ccf-4fb5-b9c4-bc89c4c5506b",
   "metadata": {},
   "outputs": [],
   "source": [
    "# 4. Discuss the types of different operators in python and provide examples of how they are used.\n",
    "#  => We have different  kinds of operators in python like, Arithmetic, Comparision etc."
   ]
  },
  {
   "cell_type": "code",
   "execution_count": 11,
   "id": "3ca35af5-6304-4ce9-a1a2-0c194a1a5bf0",
   "metadata": {},
   "outputs": [
    {
     "name": "stdout",
     "output_type": "stream",
     "text": [
      "5\n"
     ]
    },
    {
     "data": {
      "text/plain": [
       "False"
      ]
     },
     "execution_count": 11,
     "metadata": {},
     "output_type": "execute_result"
    }
   ],
   "source": [
    "# Examples \n",
    "a = 5\n",
    "b = 10\n",
    "print(b-a)\n",
    "\n",
    "a>b"
   ]
  },
  {
   "cell_type": "code",
   "execution_count": 12,
   "id": "a68616e7-9f74-4891-80b8-ec3de446322d",
   "metadata": {},
   "outputs": [],
   "source": [
    "# 5. Explain typecasting in python with example.\n",
    "#  => Type casting is used to convert the data type of an object from one into another"
   ]
  },
  {
   "cell_type": "code",
   "execution_count": 13,
   "id": "ef081062-8763-412a-ac77-4e8a162cd2c0",
   "metadata": {},
   "outputs": [
    {
     "data": {
      "text/plain": [
       "10.0"
      ]
     },
     "execution_count": 13,
     "metadata": {},
     "output_type": "execute_result"
    }
   ],
   "source": [
    "#example\n",
    "a = 10\n",
    "type(a)\n",
    "float(a)"
   ]
  },
  {
   "cell_type": "code",
   "execution_count": 14,
   "id": "db47453b-2597-47f7-9078-496edd50c4c5",
   "metadata": {},
   "outputs": [
    {
     "data": {
      "text/plain": [
       "15"
      ]
     },
     "execution_count": 14,
     "metadata": {},
     "output_type": "execute_result"
    }
   ],
   "source": [
    "b = 15.6\n",
    "type(b)\n",
    "int(b)"
   ]
  },
  {
   "cell_type": "code",
   "execution_count": 15,
   "id": "bc06d3f3-8449-4dfa-a738-77cc83a08aa9",
   "metadata": {},
   "outputs": [],
   "source": [
    "# 6. How do conditional statements work in Python? Illustrate with examples.\n",
    "#  => Conditional Statements execute a particular block of code only when a given condition is satisfied\n",
    "#    Python has 4 types of conditional statements\n",
    "#    1. If\n",
    "#    2. If else\n",
    "#    3. If elif else\n",
    "#    4. Nested if else "
   ]
  },
  {
   "cell_type": "code",
   "execution_count": 16,
   "id": "d6d828d2-caf8-4920-b796-446596090b4b",
   "metadata": {},
   "outputs": [
    {
     "name": "stdout",
     "output_type": "stream",
     "text": [
      "It's An even number\n"
     ]
    }
   ],
   "source": [
    "#If example\n",
    "no = 6\n",
    "if (no%2==0):\n",
    "    print(\"It's An even number\")"
   ]
  },
  {
   "cell_type": "code",
   "execution_count": 17,
   "id": "1af4f0ae-7ff1-4d08-923e-83b1b79db4f0",
   "metadata": {},
   "outputs": [
    {
     "name": "stdout",
     "output_type": "stream",
     "text": [
      "It's greater than 10\n"
     ]
    }
   ],
   "source": [
    "#If else example\n",
    "no = 15\n",
    "if (no>10):\n",
    "    print(\"It's greater than 10\")\n",
    "else:\n",
    "    print(\"Number is less than 10\")"
   ]
  },
  {
   "cell_type": "code",
   "execution_count": 18,
   "id": "ec1d9233-d551-4416-806b-19ae7f747332",
   "metadata": {},
   "outputs": [
    {
     "name": "stdout",
     "output_type": "stream",
     "text": [
      "It's a huge number\n"
     ]
    }
   ],
   "source": [
    "#If elif else example\n",
    "no = 200\n",
    "if (100>no>10):\n",
    "    print(\"It's greater than 10\")\n",
    "elif (no>100):\n",
    "    print(\"It's a huge number\")\n",
    "else:\n",
    "    print(\"Number is less than 10\")"
   ]
  },
  {
   "cell_type": "code",
   "execution_count": 19,
   "id": "b1ef36a0-d20c-43cf-99cc-fac2b1574e65",
   "metadata": {},
   "outputs": [
    {
     "name": "stdout",
     "output_type": "stream",
     "text": [
      "It's greater than 19\n",
      "It's an even number\n"
     ]
    }
   ],
   "source": [
    "#example\n",
    "no = 12\n",
    "if (no>10):\n",
    "    print(\"It's greater than 19\")\n",
    "    if (no%2==0):\n",
    "        print(\"It's an even number\")\n",
    "    else:\n",
    "        print(\"It's an odd number\")\n",
    "else:\n",
    "    print(\"It's less than 10\")"
   ]
  },
  {
   "cell_type": "code",
   "execution_count": 20,
   "id": "5d88b36b-0b9d-4cc5-981b-6d8e0d4b6b25",
   "metadata": {},
   "outputs": [],
   "source": [
    "# 7. Describe the different types of loops in Python and their use cases with examples\n",
    "#  => Python has 2 types of loop statements-\n",
    "#  1. For loop\n",
    "#  2. While loop"
   ]
  },
  {
   "cell_type": "code",
   "execution_count": 21,
   "id": "068ed38b-a4f5-4568-94e2-402dcfacf337",
   "metadata": {},
   "outputs": [
    {
     "name": "stdout",
     "output_type": "stream",
     "text": [
      "1\n",
      "2\n",
      "3\n",
      "4\n",
      "5\n"
     ]
    }
   ],
   "source": [
    "a=0\n",
    "for a in range(1,6):\n",
    "    print (a)"
   ]
  },
  {
   "cell_type": "code",
   "execution_count": 22,
   "id": "9f7c414a-dd58-4392-baa9-2f8addbe38b4",
   "metadata": {},
   "outputs": [],
   "source": [
    "i = 1\n",
    "while i < 6:\n",
    "    print\n",
    "    i += 1"
   ]
  },
  {
   "cell_type": "code",
   "execution_count": 23,
   "id": "51442b69-3769-454d-bf16-bd04987d0541",
   "metadata": {},
   "outputs": [],
   "source": [
    "# this will continue to print number in increasing order until i becomes 6\n",
    "#(Output is not working for some reason) "
   ]
  }
 ],
 "metadata": {
  "kernelspec": {
   "display_name": "Python 3 (ipykernel)",
   "language": "python",
   "name": "python3"
  },
  "language_info": {
   "codemirror_mode": {
    "name": "ipython",
    "version": 3
   },
   "file_extension": ".py",
   "mimetype": "text/x-python",
   "name": "python",
   "nbconvert_exporter": "python",
   "pygments_lexer": "ipython3",
   "version": "3.10.8"
  }
 },
 "nbformat": 4,
 "nbformat_minor": 5
}
